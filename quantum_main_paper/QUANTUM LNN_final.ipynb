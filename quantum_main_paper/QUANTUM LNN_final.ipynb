{
 "cells": [
  {
   "cell_type": "code",
   "execution_count": 1,
   "id": "c337969b",
   "metadata": {},
   "outputs": [
    {
     "name": "stdout",
     "output_type": "stream",
     "text": [
      "Requirement already satisfied: qiskit in c:\\users\\keert\\appdata\\local\\programs\\python\\python37\\lib\\site-packages (0.43.3)Note: you may need to restart the kernel to use updated packages.\n",
      "\n",
      "Requirement already satisfied: qiskit-aer in c:\\users\\keert\\appdata\\local\\programs\\python\\python37\\lib\\site-packages (0.12.2)\n",
      "Requirement already satisfied: qiskit-machine-learning in c:\\users\\keert\\appdata\\local\\programs\\python\\python37\\lib\\site-packages (0.6.1)\n",
      "Requirement already satisfied: qiskit-terra==0.24.2 in c:\\users\\keert\\appdata\\local\\programs\\python\\python37\\lib\\site-packages (from qiskit) (0.24.2)\n",
      "Requirement already satisfied: qiskit-ibmq-provider==0.20.2 in c:\\users\\keert\\appdata\\local\\programs\\python\\python37\\lib\\site-packages (from qiskit) (0.20.2)\n",
      "Requirement already satisfied: numpy>=1.16.3 in c:\\users\\keert\\appdata\\local\\programs\\python\\python37\\lib\\site-packages (from qiskit-aer) (1.21.6)\n",
      "Requirement already satisfied: scipy>=1.0 in c:\\users\\keert\\appdata\\local\\programs\\python\\python37\\lib\\site-packages (from qiskit-aer) (1.7.3)\n",
      "Requirement already satisfied: requests>=2.19 in c:\\users\\keert\\appdata\\local\\programs\\python\\python37\\lib\\site-packages (from qiskit-ibmq-provider==0.20.2->qiskit) (2.31.0)\n",
      "Requirement already satisfied: requests-ntlm<=1.1.0 in c:\\users\\keert\\appdata\\local\\programs\\python\\python37\\lib\\site-packages (from qiskit-ibmq-provider==0.20.2->qiskit) (1.1.0)\n",
      "Requirement already satisfied: urllib3>=1.21.1 in c:\\users\\keert\\appdata\\local\\programs\\python\\python37\\lib\\site-packages (from qiskit-ibmq-provider==0.20.2->qiskit) (1.26.16)\n",
      "Requirement already satisfied: python-dateutil>=2.8.0 in c:\\users\\keert\\appdata\\local\\programs\\python\\python37\\lib\\site-packages (from qiskit-ibmq-provider==0.20.2->qiskit) (2.9.0.post0)\n",
      "Requirement already satisfied: websocket-client>=1.5.1 in c:\\users\\keert\\appdata\\local\\programs\\python\\python37\\lib\\site-packages (from qiskit-ibmq-provider==0.20.2->qiskit) (1.6.1)\n",
      "Requirement already satisfied: websockets>=10.0 in c:\\users\\keert\\appdata\\local\\programs\\python\\python37\\lib\\site-packages (from qiskit-ibmq-provider==0.20.2->qiskit) (11.0.3)\n",
      "Requirement already satisfied: rustworkx>=0.12.0 in c:\\users\\keert\\appdata\\local\\programs\\python\\python37\\lib\\site-packages (from qiskit-terra==0.24.2->qiskit) (0.13.2)\n",
      "Requirement already satisfied: ply>=3.10 in c:\\users\\keert\\appdata\\local\\programs\\python\\python37\\lib\\site-packages (from qiskit-terra==0.24.2->qiskit) (3.11)\n",
      "Requirement already satisfied: psutil>=5 in c:\\users\\keert\\appdata\\local\\programs\\python\\python37\\lib\\site-packages (from qiskit-terra==0.24.2->qiskit) (6.1.1)\n",
      "Requirement already satisfied: sympy>=1.3 in c:\\users\\keert\\appdata\\local\\programs\\python\\python37\\lib\\site-packages (from qiskit-terra==0.24.2->qiskit) (1.10.1)\n",
      "Requirement already satisfied: dill>=0.3 in c:\\users\\keert\\appdata\\local\\programs\\python\\python37\\lib\\site-packages (from qiskit-terra==0.24.2->qiskit) (0.3.7)\n",
      "Requirement already satisfied: stevedore>=3.0.0 in c:\\users\\keert\\appdata\\local\\programs\\python\\python37\\lib\\site-packages (from qiskit-terra==0.24.2->qiskit) (3.5.2)\n",
      "Requirement already satisfied: shared-memory38 in c:\\users\\keert\\appdata\\local\\programs\\python\\python37\\lib\\site-packages (from qiskit-terra==0.24.2->qiskit) (0.1.3)\n",
      "Requirement already satisfied: typing-extensions in c:\\users\\keert\\appdata\\local\\programs\\python\\python37\\lib\\site-packages (from qiskit-terra==0.24.2->qiskit) (4.7.1)\n",
      "Requirement already satisfied: singledispatchmethod in c:\\users\\keert\\appdata\\local\\programs\\python\\python37\\lib\\site-packages (from qiskit-terra==0.24.2->qiskit) (1.0)\n",
      "Requirement already satisfied: importlib-metadata<5.0 in c:\\users\\keert\\appdata\\local\\programs\\python\\python37\\lib\\site-packages (from qiskit-terra==0.24.2->qiskit) (4.13.0)\n",
      "Requirement already satisfied: scikit-learn>=0.20.0 in c:\\users\\keert\\appdata\\local\\programs\\python\\python37\\lib\\site-packages (from qiskit-machine-learning) (1.0.2)\n",
      "Requirement already satisfied: fastdtw in c:\\users\\keert\\appdata\\local\\programs\\python\\python37\\lib\\site-packages (from qiskit-machine-learning) (0.3.4)\n",
      "Requirement already satisfied: setuptools>=40.1.0 in c:\\users\\keert\\appdata\\local\\programs\\python\\python37\\lib\\site-packages (from qiskit-machine-learning) (68.0.0)\n",
      "Requirement already satisfied: joblib>=0.11 in c:\\users\\keert\\appdata\\local\\programs\\python\\python37\\lib\\site-packages (from scikit-learn>=0.20.0->qiskit-machine-learning) (1.3.2)\n",
      "Requirement already satisfied: threadpoolctl>=2.0.0 in c:\\users\\keert\\appdata\\local\\programs\\python\\python37\\lib\\site-packages (from scikit-learn>=0.20.0->qiskit-machine-learning) (3.1.0)\n",
      "Requirement already satisfied: zipp>=0.5 in c:\\users\\keert\\appdata\\local\\programs\\python\\python37\\lib\\site-packages (from importlib-metadata<5.0->qiskit-terra==0.24.2->qiskit) (3.15.0)\n",
      "Requirement already satisfied: six>=1.5 in c:\\users\\keert\\appdata\\local\\programs\\python\\python37\\lib\\site-packages (from python-dateutil>=2.8.0->qiskit-ibmq-provider==0.20.2->qiskit) (1.16.0)\n",
      "Requirement already satisfied: charset-normalizer<4,>=2 in c:\\users\\keert\\appdata\\local\\programs\\python\\python37\\lib\\site-packages (from requests>=2.19->qiskit-ibmq-provider==0.20.2->qiskit) (3.4.0)\n",
      "Requirement already satisfied: idna<4,>=2.5 in c:\\users\\keert\\appdata\\local\\programs\\python\\python37\\lib\\site-packages (from requests>=2.19->qiskit-ibmq-provider==0.20.2->qiskit) (3.10)\n",
      "Requirement already satisfied: certifi>=2017.4.17 in c:\\users\\keert\\appdata\\local\\programs\\python\\python37\\lib\\site-packages (from requests>=2.19->qiskit-ibmq-provider==0.20.2->qiskit) (2024.8.30)\n",
      "Requirement already satisfied: ntlm-auth>=1.0.2 in c:\\users\\keert\\appdata\\local\\programs\\python\\python37\\lib\\site-packages (from requests-ntlm<=1.1.0->qiskit-ibmq-provider==0.20.2->qiskit) (1.5.0)\n",
      "Requirement already satisfied: cryptography>=1.3 in c:\\users\\keert\\appdata\\local\\programs\\python\\python37\\lib\\site-packages (from requests-ntlm<=1.1.0->qiskit-ibmq-provider==0.20.2->qiskit) (43.0.3)\n",
      "Requirement already satisfied: pbr!=2.1.0,>=2.0.0 in c:\\users\\keert\\appdata\\local\\programs\\python\\python37\\lib\\site-packages (from stevedore>=3.0.0->qiskit-terra==0.24.2->qiskit) (6.1.1)\n",
      "Requirement already satisfied: mpmath>=0.19 in c:\\users\\keert\\appdata\\local\\programs\\python\\python37\\lib\\site-packages (from sympy>=1.3->qiskit-terra==0.24.2->qiskit) (1.3.0)\n",
      "Requirement already satisfied: cffi>=1.12 in c:\\users\\keert\\appdata\\local\\programs\\python\\python37\\lib\\site-packages (from cryptography>=1.3->requests-ntlm<=1.1.0->qiskit-ibmq-provider==0.20.2->qiskit) (1.15.1)\n",
      "Requirement already satisfied: pycparser in c:\\users\\keert\\appdata\\local\\programs\\python\\python37\\lib\\site-packages (from cffi>=1.12->cryptography>=1.3->requests-ntlm<=1.1.0->qiskit-ibmq-provider==0.20.2->qiskit) (2.21)\n"
     ]
    }
   ],
   "source": [
    "pip install qiskit qiskit-aer qiskit-machine-learning\n"
   ]
  },
  {
   "cell_type": "code",
   "execution_count": 2,
   "id": "53e13aa3",
   "metadata": {},
   "outputs": [
    {
     "name": "stdout",
     "output_type": "stream",
     "text": [
      "Requirement already satisfied: qiskit in c:\\users\\keert\\appdata\\local\\programs\\python\\python37\\lib\\site-packages (0.43.3)\n",
      "Requirement already satisfied: qiskit-aer in c:\\users\\keert\\appdata\\local\\programs\\python\\python37\\lib\\site-packages (0.12.2)\n",
      "Requirement already satisfied: qiskit-machine-learning in c:\\users\\keert\\appdata\\local\\programs\\python\\python37\\lib\\site-packages (0.6.1)\n",
      "Requirement already satisfied: numpy in c:\\users\\keert\\appdata\\local\\programs\\python\\python37\\lib\\site-packages (1.21.6)\n",
      "Requirement already satisfied: pandas in c:\\users\\keert\\appdata\\local\\programs\\python\\python37\\lib\\site-packages (1.3.5)\n",
      "Requirement already satisfied: scikit-learn in c:\\users\\keert\\appdata\\local\\programs\\python\\python37\\lib\\site-packages (1.0.2)\n",
      "Requirement already satisfied: matplotlib in c:\\users\\keert\\appdata\\local\\programs\\python\\python37\\lib\\site-packages (3.5.3)\n",
      "Requirement already satisfied: qiskit-terra==0.24.2 in c:\\users\\keert\\appdata\\local\\programs\\python\\python37\\lib\\site-packages (from qiskit) (0.24.2)\n",
      "Requirement already satisfied: qiskit-ibmq-provider==0.20.2 in c:\\users\\keert\\appdata\\local\\programs\\python\\python37\\lib\\site-packages (from qiskit) (0.20.2)\n",
      "Requirement already satisfied: scipy>=1.0 in c:\\users\\keert\\appdata\\local\\programs\\python\\python37\\lib\\site-packages (from qiskit-aer) (1.7.3)\n",
      "Requirement already satisfied: requests>=2.19 in c:\\users\\keert\\appdata\\local\\programs\\python\\python37\\lib\\site-packages (from qiskit-ibmq-provider==0.20.2->qiskit) (2.31.0)\n",
      "Requirement already satisfied: requests-ntlm<=1.1.0 in c:\\users\\keert\\appdata\\local\\programs\\python\\python37\\lib\\site-packages (from qiskit-ibmq-provider==0.20.2->qiskit) (1.1.0)\n",
      "Requirement already satisfied: urllib3>=1.21.1 in c:\\users\\keert\\appdata\\local\\programs\\python\\python37\\lib\\site-packages (from qiskit-ibmq-provider==0.20.2->qiskit) (1.26.16)\n",
      "Requirement already satisfied: python-dateutil>=2.8.0 in c:\\users\\keert\\appdata\\local\\programs\\python\\python37\\lib\\site-packages (from qiskit-ibmq-provider==0.20.2->qiskit) (2.9.0.post0)\n",
      "Requirement already satisfied: websocket-client>=1.5.1 in c:\\users\\keert\\appdata\\local\\programs\\python\\python37\\lib\\site-packages (from qiskit-ibmq-provider==0.20.2->qiskit) (1.6.1)\n",
      "Requirement already satisfied: websockets>=10.0 in c:\\users\\keert\\appdata\\local\\programs\\python\\python37\\lib\\site-packages (from qiskit-ibmq-provider==0.20.2->qiskit) (11.0.3)\n",
      "Requirement already satisfied: rustworkx>=0.12.0 in c:\\users\\keert\\appdata\\local\\programs\\python\\python37\\lib\\site-packages (from qiskit-terra==0.24.2->qiskit) (0.13.2)\n",
      "Requirement already satisfied: ply>=3.10 in c:\\users\\keert\\appdata\\local\\programs\\python\\python37\\lib\\site-packages (from qiskit-terra==0.24.2->qiskit) (3.11)\n",
      "Requirement already satisfied: psutil>=5 in c:\\users\\keert\\appdata\\local\\programs\\python\\python37\\lib\\site-packages (from qiskit-terra==0.24.2->qiskit) (6.1.1)\n",
      "Requirement already satisfied: sympy>=1.3 in c:\\users\\keert\\appdata\\local\\programs\\python\\python37\\lib\\site-packages (from qiskit-terra==0.24.2->qiskit) (1.10.1)\n",
      "Requirement already satisfied: dill>=0.3 in c:\\users\\keert\\appdata\\local\\programs\\python\\python37\\lib\\site-packages (from qiskit-terra==0.24.2->qiskit) (0.3.7)\n",
      "Requirement already satisfied: stevedore>=3.0.0 in c:\\users\\keert\\appdata\\local\\programs\\python\\python37\\lib\\site-packages (from qiskit-terra==0.24.2->qiskit) (3.5.2)\n",
      "Requirement already satisfied: shared-memory38 in c:\\users\\keert\\appdata\\local\\programs\\python\\python37\\lib\\site-packages (from qiskit-terra==0.24.2->qiskit) (0.1.3)\n",
      "Requirement already satisfied: typing-extensions in c:\\users\\keert\\appdata\\local\\programs\\python\\python37\\lib\\site-packages (from qiskit-terra==0.24.2->qiskit) (4.7.1)\n",
      "Requirement already satisfied: singledispatchmethod in c:\\users\\keert\\appdata\\local\\programs\\python\\python37\\lib\\site-packages (from qiskit-terra==0.24.2->qiskit) (1.0)\n",
      "Requirement already satisfied: importlib-metadata<5.0 in c:\\users\\keert\\appdata\\local\\programs\\python\\python37\\lib\\site-packages (from qiskit-terra==0.24.2->qiskit) (4.13.0)\n",
      "Requirement already satisfied: fastdtw in c:\\users\\keert\\appdata\\local\\programs\\python\\python37\\lib\\site-packages (from qiskit-machine-learning) (0.3.4)\n",
      "Requirement already satisfied: setuptools>=40.1.0 in c:\\users\\keert\\appdata\\local\\programs\\python\\python37\\lib\\site-packages (from qiskit-machine-learning) (68.0.0)\n",
      "Requirement already satisfied: pytz>=2017.3 in c:\\users\\keert\\appdata\\local\\programs\\python\\python37\\lib\\site-packages (from pandas) (2024.2)\n",
      "Requirement already satisfied: joblib>=0.11 in c:\\users\\keert\\appdata\\local\\programs\\python\\python37\\lib\\site-packages (from scikit-learn) (1.3.2)\n",
      "Requirement already satisfied: threadpoolctl>=2.0.0 in c:\\users\\keert\\appdata\\local\\programs\\python\\python37\\lib\\site-packages (from scikit-learn) (3.1.0)\n",
      "Requirement already satisfied: cycler>=0.10 in c:\\users\\keert\\appdata\\local\\programs\\python\\python37\\lib\\site-packages (from matplotlib) (0.11.0)\n",
      "Requirement already satisfied: fonttools>=4.22.0 in c:\\users\\keert\\appdata\\local\\programs\\python\\python37\\lib\\site-packages (from matplotlib) (4.38.0)\n",
      "Requirement already satisfied: kiwisolver>=1.0.1 in c:\\users\\keert\\appdata\\local\\programs\\python\\python37\\lib\\site-packages (from matplotlib) (1.4.5)\n",
      "Requirement already satisfied: packaging>=20.0 in c:\\users\\keert\\appdata\\local\\programs\\python\\python37\\lib\\site-packages (from matplotlib) (24.0)\n",
      "Requirement already satisfied: pillow>=6.2.0 in c:\\users\\keert\\appdata\\local\\programs\\python\\python37\\lib\\site-packages (from matplotlib) (9.5.0)\n",
      "Requirement already satisfied: pyparsing>=2.2.1 in c:\\users\\keert\\appdata\\local\\programs\\python\\python37\\lib\\site-packages (from matplotlib) (3.1.4)\n",
      "Requirement already satisfied: six>=1.5 in c:\\users\\keert\\appdata\\local\\programs\\python\\python37\\lib\\site-packages (from python-dateutil>=2.8.0->qiskit-ibmq-provider==0.20.2->qiskit) (1.16.0)\n",
      "Requirement already satisfied: zipp>=0.5 in c:\\users\\keert\\appdata\\local\\programs\\python\\python37\\lib\\site-packages (from importlib-metadata<5.0->qiskit-terra==0.24.2->qiskit) (3.15.0)\n",
      "Requirement already satisfied: charset-normalizer<4,>=2 in c:\\users\\keert\\appdata\\local\\programs\\python\\python37\\lib\\site-packages (from requests>=2.19->qiskit-ibmq-provider==0.20.2->qiskit) (3.4.0)\n",
      "Requirement already satisfied: idna<4,>=2.5 in c:\\users\\keert\\appdata\\local\\programs\\python\\python37\\lib\\site-packages (from requests>=2.19->qiskit-ibmq-provider==0.20.2->qiskit) (3.10)\n",
      "Requirement already satisfied: certifi>=2017.4.17 in c:\\users\\keert\\appdata\\local\\programs\\python\\python37\\lib\\site-packages (from requests>=2.19->qiskit-ibmq-provider==0.20.2->qiskit) (2024.8.30)\n",
      "Requirement already satisfied: ntlm-auth>=1.0.2 in c:\\users\\keert\\appdata\\local\\programs\\python\\python37\\lib\\site-packages (from requests-ntlm<=1.1.0->qiskit-ibmq-provider==0.20.2->qiskit) (1.5.0)\n",
      "Requirement already satisfied: cryptography>=1.3 in c:\\users\\keert\\appdata\\local\\programs\\python\\python37\\lib\\site-packages (from requests-ntlm<=1.1.0->qiskit-ibmq-provider==0.20.2->qiskit) (43.0.3)\n",
      "Requirement already satisfied: pbr!=2.1.0,>=2.0.0 in c:\\users\\keert\\appdata\\local\\programs\\python\\python37\\lib\\site-packages (from stevedore>=3.0.0->qiskit-terra==0.24.2->qiskit) (6.1.1)\n",
      "Requirement already satisfied: mpmath>=0.19 in c:\\users\\keert\\appdata\\local\\programs\\python\\python37\\lib\\site-packages (from sympy>=1.3->qiskit-terra==0.24.2->qiskit) (1.3.0)\n",
      "Requirement already satisfied: cffi>=1.12 in c:\\users\\keert\\appdata\\local\\programs\\python\\python37\\lib\\site-packages (from cryptography>=1.3->requests-ntlm<=1.1.0->qiskit-ibmq-provider==0.20.2->qiskit) (1.15.1)\n",
      "Requirement already satisfied: pycparser in c:\\users\\keert\\appdata\\local\\programs\\python\\python37\\lib\\site-packages (from cffi>=1.12->cryptography>=1.3->requests-ntlm<=1.1.0->qiskit-ibmq-provider==0.20.2->qiskit) (2.21)\n",
      "Note: you may need to restart the kernel to use updated packages.\n"
     ]
    }
   ],
   "source": [
    "pip install qiskit qiskit-aer qiskit-machine-learning numpy pandas scikit-learn matplotlib\n"
   ]
  },
  {
   "cell_type": "code",
   "execution_count": 3,
   "id": "6b5c8930",
   "metadata": {},
   "outputs": [],
   "source": [
    "# Import necessary libraries\n",
    "import pandas as pd\n",
    "import numpy as np\n",
    "from sklearn.model_selection import train_test_split\n",
    "from sklearn.preprocessing import LabelEncoder, StandardScaler\n",
    "from sklearn.metrics import accuracy_score, precision_score, f1_score\n",
    "from qiskit import Aer\n",
    "from qiskit.circuit.library import ZZFeatureMap, RealAmplitudes\n",
    "from qiskit_machine_learning.algorithms import VQC\n",
    "\n"
   ]
  },
  {
   "cell_type": "code",
   "execution_count": 4,
   "id": "560837a0",
   "metadata": {},
   "outputs": [
    {
     "data": {
      "text/html": [
       "<div>\n",
       "<style scoped>\n",
       "    .dataframe tbody tr th:only-of-type {\n",
       "        vertical-align: middle;\n",
       "    }\n",
       "\n",
       "    .dataframe tbody tr th {\n",
       "        vertical-align: top;\n",
       "    }\n",
       "\n",
       "    .dataframe thead th {\n",
       "        text-align: right;\n",
       "    }\n",
       "</style>\n",
       "<table border=\"1\" class=\"dataframe\">\n",
       "  <thead>\n",
       "    <tr style=\"text-align: right;\">\n",
       "      <th></th>\n",
       "      <th>Location</th>\n",
       "      <th>Country</th>\n",
       "      <th>Category</th>\n",
       "      <th>Visitors</th>\n",
       "      <th>Rating</th>\n",
       "      <th>Revenue</th>\n",
       "      <th>Accommodation_Available</th>\n",
       "    </tr>\n",
       "  </thead>\n",
       "  <tbody>\n",
       "    <tr>\n",
       "      <th>0</th>\n",
       "      <td>kuBZRkVsAR</td>\n",
       "      <td>India</td>\n",
       "      <td>Nature</td>\n",
       "      <td>948853</td>\n",
       "      <td>1.32</td>\n",
       "      <td>84388.38</td>\n",
       "      <td>Yes</td>\n",
       "    </tr>\n",
       "    <tr>\n",
       "      <th>1</th>\n",
       "      <td>aHKUXhjzTo</td>\n",
       "      <td>USA</td>\n",
       "      <td>Historical</td>\n",
       "      <td>813627</td>\n",
       "      <td>2.01</td>\n",
       "      <td>802625.60</td>\n",
       "      <td>No</td>\n",
       "    </tr>\n",
       "    <tr>\n",
       "      <th>2</th>\n",
       "      <td>dlrdYtJFTA</td>\n",
       "      <td>Brazil</td>\n",
       "      <td>Nature</td>\n",
       "      <td>508673</td>\n",
       "      <td>1.42</td>\n",
       "      <td>338777.11</td>\n",
       "      <td>Yes</td>\n",
       "    </tr>\n",
       "    <tr>\n",
       "      <th>3</th>\n",
       "      <td>DxmlzdGkHK</td>\n",
       "      <td>Brazil</td>\n",
       "      <td>Historical</td>\n",
       "      <td>623329</td>\n",
       "      <td>1.09</td>\n",
       "      <td>295183.60</td>\n",
       "      <td>Yes</td>\n",
       "    </tr>\n",
       "    <tr>\n",
       "      <th>4</th>\n",
       "      <td>WJCCQlepnz</td>\n",
       "      <td>France</td>\n",
       "      <td>Cultural</td>\n",
       "      <td>124867</td>\n",
       "      <td>1.43</td>\n",
       "      <td>547893.24</td>\n",
       "      <td>No</td>\n",
       "    </tr>\n",
       "  </tbody>\n",
       "</table>\n",
       "</div>"
      ],
      "text/plain": [
       "     Location Country    Category  Visitors  Rating    Revenue  \\\n",
       "0  kuBZRkVsAR   India      Nature    948853    1.32   84388.38   \n",
       "1  aHKUXhjzTo     USA  Historical    813627    2.01  802625.60   \n",
       "2  dlrdYtJFTA  Brazil      Nature    508673    1.42  338777.11   \n",
       "3  DxmlzdGkHK  Brazil  Historical    623329    1.09  295183.60   \n",
       "4  WJCCQlepnz  France    Cultural    124867    1.43  547893.24   \n",
       "\n",
       "  Accommodation_Available  \n",
       "0                     Yes  \n",
       "1                      No  \n",
       "2                     Yes  \n",
       "3                     Yes  \n",
       "4                      No  "
      ]
     },
     "execution_count": 4,
     "metadata": {},
     "output_type": "execute_result"
    }
   ],
   "source": [
    "# Load the dataset\n",
    "file_path = \"tourism_dataset.csv\"  # Make sure the file is in the same directory as your notebook\n",
    "df = pd.read_csv(file_path)\n",
    "\n",
    "# Display the first 5 rows of the dataset\n",
    "df.head()\n",
    "\n"
   ]
  },
  {
   "cell_type": "code",
   "execution_count": 5,
   "id": "66680bb5",
   "metadata": {},
   "outputs": [
    {
     "data": {
      "text/html": [
       "<div>\n",
       "<style scoped>\n",
       "    .dataframe tbody tr th:only-of-type {\n",
       "        vertical-align: middle;\n",
       "    }\n",
       "\n",
       "    .dataframe tbody tr th {\n",
       "        vertical-align: top;\n",
       "    }\n",
       "\n",
       "    .dataframe thead th {\n",
       "        text-align: right;\n",
       "    }\n",
       "</style>\n",
       "<table border=\"1\" class=\"dataframe\">\n",
       "  <thead>\n",
       "    <tr style=\"text-align: right;\">\n",
       "      <th></th>\n",
       "      <th>Category</th>\n",
       "      <th>Visitors</th>\n",
       "      <th>Rating</th>\n",
       "      <th>Revenue</th>\n",
       "      <th>Accommodation_Available</th>\n",
       "    </tr>\n",
       "  </thead>\n",
       "  <tbody>\n",
       "    <tr>\n",
       "      <th>0</th>\n",
       "      <td>4</td>\n",
       "      <td>1.545549</td>\n",
       "      <td>-1.461521</td>\n",
       "      <td>-1.447726</td>\n",
       "      <td>1</td>\n",
       "    </tr>\n",
       "    <tr>\n",
       "      <th>1</th>\n",
       "      <td>3</td>\n",
       "      <td>1.078865</td>\n",
       "      <td>-0.864575</td>\n",
       "      <td>1.057293</td>\n",
       "      <td>0</td>\n",
       "    </tr>\n",
       "    <tr>\n",
       "      <th>2</th>\n",
       "      <td>4</td>\n",
       "      <td>0.026425</td>\n",
       "      <td>-1.375007</td>\n",
       "      <td>-0.560486</td>\n",
       "      <td>1</td>\n",
       "    </tr>\n",
       "    <tr>\n",
       "      <th>3</th>\n",
       "      <td>3</td>\n",
       "      <td>0.422119</td>\n",
       "      <td>-1.660503</td>\n",
       "      <td>-0.712529</td>\n",
       "      <td>1</td>\n",
       "    </tr>\n",
       "    <tr>\n",
       "      <th>4</th>\n",
       "      <td>2</td>\n",
       "      <td>-1.298144</td>\n",
       "      <td>-1.366355</td>\n",
       "      <td>0.168855</td>\n",
       "      <td>0</td>\n",
       "    </tr>\n",
       "  </tbody>\n",
       "</table>\n",
       "</div>"
      ],
      "text/plain": [
       "   Category  Visitors    Rating   Revenue  Accommodation_Available\n",
       "0         4  1.545549 -1.461521 -1.447726                        1\n",
       "1         3  1.078865 -0.864575  1.057293                        0\n",
       "2         4  0.026425 -1.375007 -0.560486                        1\n",
       "3         3  0.422119 -1.660503 -0.712529                        1\n",
       "4         2 -1.298144 -1.366355  0.168855                        0"
      ]
     },
     "execution_count": 5,
     "metadata": {},
     "output_type": "execute_result"
    }
   ],
   "source": [
    "from sklearn.preprocessing import LabelEncoder, StandardScaler\n",
    "\n",
    "# Encode target variable\n",
    "df['Accommodation_Available'] = df['Accommodation_Available'].apply(lambda x: 1 if x == 'Yes' else 0)\n",
    "\n",
    "# Drop irrelevant columns\n",
    "df = df.drop(columns=['Location', 'Country'])\n",
    "\n",
    "# Encode 'Category' as numerical using LabelEncoder\n",
    "df['Category'] = LabelEncoder().fit_transform(df['Category'])\n",
    "\n",
    "# Standardize numerical columns\n",
    "scaler = StandardScaler()\n",
    "df[['Visitors', 'Rating', 'Revenue']] = scaler.fit_transform(df[['Visitors', 'Rating', 'Revenue']])\n",
    "\n",
    "# Display the first 5 rows after preprocessing\n",
    "df.head()\n"
   ]
  },
  {
   "cell_type": "code",
   "execution_count": 6,
   "id": "8133c1da",
   "metadata": {},
   "outputs": [
    {
     "data": {
      "text/plain": [
       "((4791, 4), (1198, 4))"
      ]
     },
     "execution_count": 6,
     "metadata": {},
     "output_type": "execute_result"
    }
   ],
   "source": [
    "from sklearn.model_selection import train_test_split\n",
    "\n",
    "# Define features and target variable\n",
    "X = df.drop(columns=['Accommodation_Available'])\n",
    "y = df['Accommodation_Available']\n",
    "\n",
    "# Split data into training and testing sets (80/20 split)\n",
    "X_train, X_test, y_train, y_test = train_test_split(X, y, test_size=0.2, random_state=42)\n",
    "\n",
    "# Check shape of training and testing data\n",
    "X_train.shape, X_test.shape\n"
   ]
  },
  {
   "cell_type": "code",
   "execution_count": 7,
   "id": "1828121e",
   "metadata": {},
   "outputs": [
    {
     "data": {
      "image/png": "[encoded data removed]",
      "text/plain": [
       "<Figure size 538.33x367.889 with 1 Axes>"
      ]
     },
     "execution_count": 7,
     "metadata": {},
     "output_type": "execute_result"
    }
   ],
   "source": [
    "from qiskit.circuit.library import ZZFeatureMap, RealAmplitudes\n",
    "from qiskit import Aer\n",
    "\n",
    "# Define feature map and variational circuit\n",
    "feature_map = ZZFeatureMap(feature_dimension=X_train.shape[1], reps=1)\n",
    "var_circuit = RealAmplitudes(num_qubits=X_train.shape[1], reps=1)\n",
    "\n",
    "# Use Aer simulator as backend\n",
    "backend = Aer.get_backend('qasm_simulator')\n",
    "\n",
    "# Visualize feature map and variational circuit\n",
    "feature_map.decompose().draw('mpl')\n",
    "var_circuit.decompose().draw('mpl')\n",
    "\n"
   ]
  },
  {
   "cell_type": "code",
   "execution_count": 8,
   "id": "3648c8dc",
   "metadata": {},
   "outputs": [
    {
     "name": "stdout",
     "output_type": "stream",
     "text": [
      "Requirement already satisfied: matplotlib in c:\\users\\keert\\appdata\\local\\programs\\python\\python37\\lib\\site-packages (3.5.3)\n",
      "Requirement already satisfied: cycler>=0.10 in c:\\users\\keert\\appdata\\local\\programs\\python\\python37\\lib\\site-packages (from matplotlib) (0.11.0)\n",
      "Requirement already satisfied: fonttools>=4.22.0 in c:\\users\\keert\\appdata\\local\\programs\\python\\python37\\lib\\site-packages (from matplotlib) (4.38.0)\n",
      "Requirement already satisfied: kiwisolver>=1.0.1 in c:\\users\\keert\\appdata\\local\\programs\\python\\python37\\lib\\site-packages (from matplotlib) (1.4.5)\n",
      "Requirement already satisfied: numpy>=1.17 in c:\\users\\keert\\appdata\\local\\programs\\python\\python37\\lib\\site-packages (from matplotlib) (1.21.6)\n",
      "Requirement already satisfied: packaging>=20.0 in c:\\users\\keert\\appdata\\local\\programs\\python\\python37\\lib\\site-packages (from matplotlib) (24.0)\n",
      "Requirement already satisfied: pillow>=6.2.0 in c:\\users\\keert\\appdata\\local\\programs\\python\\python37\\lib\\site-packages (from matplotlib) (9.5.0)\n",
      "Requirement already satisfied: pyparsing>=2.2.1 in c:\\users\\keert\\appdata\\local\\programs\\python\\python37\\lib\\site-packages (from matplotlib) (3.1.4)\n",
      "Requirement already satisfied: python-dateutil>=2.7 in c:\\users\\keert\\appdata\\local\\programs\\python\\python37\\lib\\site-packages (from matplotlib) (2.9.0.post0)\n",
      "Requirement already satisfied: typing-extensions in c:\\users\\keert\\appdata\\local\\programs\\python\\python37\\lib\\site-packages (from kiwisolver>=1.0.1->matplotlib) (4.7.1)\n",
      "Requirement already satisfied: six>=1.5 in c:\\users\\keert\\appdata\\local\\programs\\python\\python37\\lib\\site-packages (from python-dateutil>=2.7->matplotlib) (1.16.0)\n",
      "Note: you may need to restart the kernel to use updated packages.\n"
     ]
    }
   ],
   "source": [
    "pip install matplotlib\n"
   ]
  },
  {
   "cell_type": "code",
   "execution_count": 9,
   "id": "e666fb53",
   "metadata": {},
   "outputs": [
    {
     "ename": "TypeError",
     "evalue": "__init__() got an unexpected keyword argument 'backend'",
     "output_type": "error",
     "traceback": [
      "\u001b[1;31m---------------------------------------------------------------------------\u001b[0m",
      "\u001b[1;31mTypeError\u001b[0m                                 Traceback (most recent call last)",
      "\u001b[1;32m~\\AppData\\Local\\Temp\\ipykernel_25928\\2913871817.py\u001b[0m in \u001b[0;36m<module>\u001b[1;34m\u001b[0m\n\u001b[0;32m      2\u001b[0m \u001b[1;33m\u001b[0m\u001b[0m\n\u001b[0;32m      3\u001b[0m \u001b[1;31m# Create Quantum Variational Classifier (VQC)\u001b[0m\u001b[1;33m\u001b[0m\u001b[1;33m\u001b[0m\u001b[1;33m\u001b[0m\u001b[0m\n\u001b[1;32m----> 4\u001b[1;33m \u001b[0mvqc\u001b[0m \u001b[1;33m=\u001b[0m \u001b[0mVQC\u001b[0m\u001b[1;33m(\u001b[0m\u001b[0mfeature_map\u001b[0m\u001b[1;33m=\u001b[0m\u001b[0mfeature_map\u001b[0m\u001b[1;33m,\u001b[0m \u001b[0mansatz\u001b[0m\u001b[1;33m=\u001b[0m\u001b[0mvar_circuit\u001b[0m\u001b[1;33m,\u001b[0m \u001b[0mbackend\u001b[0m\u001b[1;33m=\u001b[0m\u001b[0mbackend\u001b[0m\u001b[1;33m)\u001b[0m\u001b[1;33m\u001b[0m\u001b[1;33m\u001b[0m\u001b[0m\n\u001b[0m\u001b[0;32m      5\u001b[0m \u001b[1;33m\u001b[0m\u001b[0m\n\u001b[0;32m      6\u001b[0m \u001b[1;31m# Fit the model to training data\u001b[0m\u001b[1;33m\u001b[0m\u001b[1;33m\u001b[0m\u001b[1;33m\u001b[0m\u001b[0m\n",
      "\u001b[1;31mTypeError\u001b[0m: __init__() got an unexpected keyword argument 'backend'"
     ]
    }
   ],
   "source": [
    "from qiskit_machine_learning.algorithms import VQC\n",
    "\n",
    "# Create Quantum Variational Classifier (VQC)\n",
    "vqc = VQC(feature_map=feature_map, ansatz=var_circuit, backend=backend)\n",
    "\n",
    "# Fit the model to training data\n",
    "vqc.fit(X_train.to_numpy(), y_train.to_numpy())\n"
   ]
  },
  {
   "cell_type": "code",
   "execution_count": null,
   "id": "6826bb07",
   "metadata": {},
   "outputs": [],
   "source": [
    "from qiskit_machine_learning.algorithms import VQC\n",
    "from qiskit.utils import QuantumInstance\n",
    "\n",
    "# Define the quantum instance\n",
    "quantum_instance = QuantumInstance(backend, shots=1024)\n",
    "\n",
    "# Create the VQC without 'backend' in constructor\n",
    "vqc = VQC(feature_map=feature_map, ansatz=var_circuit, quantum_instance=quantum_instance)\n",
    "\n",
    "# Fit the model to training data\n",
    "vqc.fit(X_train.to_numpy(), y_train.to_numpy())\n"
   ]
  },
  {
   "cell_type": "code",
   "execution_count": 10,
   "id": "1b808ca7",
   "metadata": {},
   "outputs": [
    {
     "data": {
      "text/plain": [
       "<qiskit_machine_learning.algorithms.classifiers.vqc.VQC at 0x25c45e6a208>"
      ]
     },
     "execution_count": 10,
     "metadata": {},
     "output_type": "execute_result"
    }
   ],
   "source": [
    "from qiskit.primitives import Sampler\n",
    "from qiskit_machine_learning.algorithms import VQC\n",
    "\n",
    "# Define sampler (replaces backend)\n",
    "sampler = Sampler()\n",
    "\n",
    "# Create the VQC using sampler\n",
    "vqc = VQC(feature_map=feature_map, ansatz=var_circuit, sampler=sampler)\n",
    "\n",
    "# Fit the model to training data\n",
    "vqc.fit(X_train.to_numpy(), y_train.to_numpy())\n"
   ]
  },
  {
   "cell_type": "code",
   "execution_count": null,
   "id": "e50b7e1e",
   "metadata": {},
   "outputs": [],
   "source": [
    "# Measure reliability by running the model multiple times\n",
    "reliability_scores = []\n",
    "for _ in range(5):  # Run 5 times for reliability\n",
    "    vqc.fit(X_train.to_numpy(), y_train.to_numpy())\n",
    "    y_pred = vqc.predict(X_test.to_numpy())\n",
    "    reliability_scores.append(accuracy_score(y_test, y_pred))\n",
    "\n",
    "# Calculate average reliability\n",
    "reliability = np.mean(reliability_scores)\n",
    "print(f\"✅ Reliability: {reliability:.2f}\")\n"
   ]
  },
  {
   "cell_type": "code",
   "execution_count": null,
   "id": "0fe7acf8",
   "metadata": {},
   "outputs": [],
   "source": [
    "import time\n",
    "\n",
    "# Scalability: Data Size vs Accuracy and Time\n",
    "data_sizes = [0.2, 0.4, 0.6, 0.8, 1.0]\n",
    "accuracy_scores = []\n",
    "time_taken = []\n",
    "\n",
    "for size in data_sizes:\n",
    "    X_sample, _, y_sample, _ = train_test_split(X, y, train_size=size, random_state=42)\n",
    "    \n",
    "    start_time = time.time()\n",
    "    vqc.fit(X_sample.to_numpy(), y_sample.to_numpy())\n",
    "    y_pred = vqc.predict(X_test.to_numpy())\n",
    "    \n",
    "    # Measure accuracy and time taken\n",
    "    accuracy_scores.append(accuracy_score(y_test, y_pred))\n",
    "    time_taken.append(time.time() - start_time)\n"
   ]
  },
  {
   "cell_type": "code",
   "execution_count": null,
   "id": "be1a4ff4",
   "metadata": {},
   "outputs": [],
   "source": [
    "from sklearn.metrics import accuracy_score, precision_score, f1_score\n",
    "\n",
    "# Make predictions on the test set\n",
    "y_pred = vqc.predict(X_test.to_numpy())\n",
    "\n",
    "# Evaluate the model\n",
    "accuracy = accuracy_score(y_test, y_pred)\n",
    "precision = precision_score(y_test, y_pred)\n",
    "f1 = f1_score(y_test, y_pred)\n",
    "\n",
    "print(f\"✅ Accuracy: {accuracy:.2f}\")\n",
    "print(f\"✅ Precision: {precision:.2f}\")\n",
    "print(f\"✅ F1 Score: {f1:.2f}\")\n"
   ]
  },
  {
   "cell_type": "code",
   "execution_count": null,
   "id": "5b54c779",
   "metadata": {},
   "outputs": [],
   "source": [
    "from sklearn.metrics import accuracy_score, precision_score, f1_score\n",
    "\n",
    "# Make predictions on the test set\n",
    "y_pred = vqc.predict(X_test.to_numpy())\n",
    "\n",
    "# Convert predictions and true labels to integers (if necessary)\n",
    "y_pred = np.array(y_pred).astype(int)\n",
    "y_test = y_test.astype(int)\n",
    "\n",
    "# Evaluate the model\n",
    "accuracy = accuracy_score(y_test, y_pred)\n",
    "precision = precision_score(y_test, y_pred, average='binary')\n",
    "f1 = f1_score(y_test, y_pred, average='binary')\n",
    "\n",
    "print(f\"✅ Accuracy: {accuracy:.2f}\")\n",
    "print(f\"✅ Precision: {precision:.2f}\")\n",
    "print(f\"✅ F1 Score: {f1:.2f}\")\n"
   ]
  },
  {
   "cell_type": "code",
   "execution_count": null,
   "id": "a13a0956",
   "metadata": {},
   "outputs": [],
   "source": [
    "# Fit the model to training data again before prediction\n",
    "vqc.fit(X_train.to_numpy(), y_train.to_numpy())\n",
    "print(\"✅ Model successfully trained!\")\n"
   ]
  },
  {
   "cell_type": "code",
   "execution_count": null,
   "id": "fa5a672e",
   "metadata": {},
   "outputs": [],
   "source": [
    "# Reduce training size to 10% of the original data for a quick check\n",
    "X_sample, _, y_sample, _ = train_test_split(X_train, y_train, train_size=0.1, random_state=42)\n",
    "\n",
    "# Fit the model to the smaller dataset\n",
    "vqc.fit(X_sample.to_numpy(), y_sample.to_numpy())\n",
    "\n",
    "print(\"✅ Model successfully trained with reduced data!\")\n"
   ]
  },
  {
   "cell_type": "code",
   "execution_count": null,
   "id": "5be50b88",
   "metadata": {},
   "outputs": [],
   "source": [
    "# Check if model is fitted\n",
    "try:\n",
    "    vqc._check_fitted()  # Internal method to verify fitting\n",
    "    print(\"✅ Model is properly fitted!\")\n",
    "except Exception as e:\n",
    "    print(f\"⚠️ Model is not yet fitted. Error: {e}\")\n"
   ]
  },
  {
   "cell_type": "code",
   "execution_count": null,
   "id": "61d0f75a",
   "metadata": {},
   "outputs": [],
   "source": [
    "from sklearn.metrics import accuracy_score, precision_score, f1_score\n",
    "import numpy as np\n",
    "\n",
    "# Make predictions on the test set\n",
    "y_pred = vqc.predict(X_test.to_numpy())\n",
    "\n",
    "# Convert predictions and true labels to integers\n",
    "y_pred = np.array(y_pred).astype(int)\n",
    "y_test = y_test.astype(int)\n",
    "\n",
    "# Evaluate the model\n",
    "accuracy = accuracy_score(y_test, y_pred)\n",
    "precision = precision_score(y_test, y_pred, average='binary')\n",
    "f1 = f1_score(y_test, y_pred, average='binary')\n",
    "\n",
    "print(f\"✅ Accuracy: {accuracy:.2f}\")\n",
    "print(f\"✅ Precision: {precision:.2f}\")\n",
    "print(f\"✅ F1 Score: {f1:.2f}\")\n"
   ]
  },
  {
   "cell_type": "code",
   "execution_count": null,
   "id": "2e88c468",
   "metadata": {},
   "outputs": [],
   "source": [
    "import matplotlib.pyplot as plt\n",
    "\n",
    "# Define metrics and their values\n",
    "metrics = ['Accuracy', 'Precision', 'F1 Score']\n",
    "values = [accuracy, precision, f1]\n",
    "\n",
    "# Plot the metrics\n",
    "plt.figure(figsize=(10, 6))\n",
    "plt.plot(metrics, values, marker='o', linestyle='-', color='blue', label='Metrics Score')\n",
    "plt.title('Performance Metrics for QLNN Model')\n",
    "plt.xlabel('Metrics')\n",
    "plt.ylabel('Score')\n",
    "plt.ylim(0, 1)  # Scores range from 0 to 1\n",
    "plt.grid(True)\n",
    "plt.show()\n"
   ]
  },
  {
   "cell_type": "code",
   "execution_count": null,
   "id": "0e2f313b",
   "metadata": {},
   "outputs": [],
   "source": [
    "import time\n",
    "import numpy as np\n",
    "import matplotlib.pyplot as plt\n",
    "from sklearn.metrics import accuracy_score\n",
    "\n",
    "# Data sizes for evaluation\n",
    "data_sizes = [0.2, 0.4, 0.6, 0.8, 1.0]\n",
    "accuracy_scores = []\n",
    "\n",
    "for size in data_sizes:\n",
    "    # Split data with different sizes\n",
    "    X_sample, _, y_sample, _ = train_test_split(X_train, y_train, train_size=size, random_state=42)\n",
    "    \n",
    "    # Fit the model to reduced size\n",
    "    vqc.fit(X_sample.to_numpy(), y_sample.to_numpy())\n",
    "    \n",
    "    # Predict and calculate accuracy\n",
    "    y_pred = vqc.predict(X_test.to_numpy())\n",
    "    accuracy_scores.append(accuracy_score(y_test, np.array(y_pred).astype(int)))\n",
    "\n",
    "# Plot Accuracy vs. Data Size\n",
    "plt.figure(figsize=(10, 6))\n",
    "plt.plot(data_sizes, accuracy_scores, marker='o', linestyle='-', color='blue', label='Accuracy')\n",
    "plt.title('Accuracy vs. Data Size')\n",
    "plt.xlabel('Data Size (%)')\n",
    "plt.ylabel('Accuracy Score')\n",
    "plt.grid(True)\n",
    "plt.show()\n"
   ]
  },
  {
   "cell_type": "code",
   "execution_count": null,
   "id": "0a73a70b",
   "metadata": {},
   "outputs": [],
   "source": [
    "import numpy as np\n",
    "import matplotlib.pyplot as plt\n",
    "from sklearn.metrics import accuracy_score\n",
    "\n",
    "# Define different data sizes to test\n",
    "data_sizes = [0.2, 0.4, 0.6, 0.8, 1.0]\n",
    "accuracy_scores = []\n",
    "\n",
    "# Use already trained model, do not retrain for each size\n",
    "for size in data_sizes:\n",
    "    # Reduce data size for evaluation\n",
    "    X_sample, _, y_sample, _ = train_test_split(X_train, y_train, train_size=size, random_state=42)\n",
    "    \n",
    "    # Make predictions using the trained VQC model\n",
    "    y_pred = vqc.predict(X_test.to_numpy())\n",
    "    accuracy_scores.append(accuracy_score(y_test, np.array(y_pred).astype(int)))\n",
    "\n",
    "# Plot Accuracy vs. Data Size\n",
    "plt.figure(figsize=(10, 6))\n",
    "plt.plot(data_sizes, accuracy_scores, marker='o', linestyle='-', color='blue', label='Accuracy')\n",
    "plt.title('Accuracy vs. Data Size (Pre-trained Model)')\n",
    "plt.xlabel('Data Size (%)')\n",
    "plt.ylabel('Accuracy Score')\n",
    "plt.grid(True)\n",
    "plt.show()\n"
   ]
  },
  {
   "cell_type": "code",
   "execution_count": null,
   "id": "211d4016",
   "metadata": {},
   "outputs": [],
   "source": [
    "from sklearn.metrics import accuracy_score\n",
    "\n",
    "# Take a small sample from the test data\n",
    "X_sample_test, _, y_sample_test, _ = train_test_split(X_test, y_test, test_size=0.1, random_state=42)\n",
    "\n",
    "# Make predictions on the smaller test sample\n",
    "y_pred_sample = vqc.predict(X_sample_test.to_numpy())\n",
    "\n",
    "# Calculate accuracy only for this small test set\n",
    "accuracy_sample = accuracy_score(y_sample_test.astype(int), np.array(y_pred_sample).astype(int))\n",
    "\n",
    "print(f\"✅ Accuracy for small sample: {accuracy_sample:.2f}\")\n"
   ]
  },
  {
   "cell_type": "code",
   "execution_count": null,
   "id": "d6139590",
   "metadata": {},
   "outputs": [],
   "source": []
  }
 ],
 "metadata": {
  "kernelspec": {
   "display_name": "Python 3 (ipykernel)",
   "language": "python",
   "name": "python3"
  },
  "language_info": {
   "codemirror_mode": {
    "name": "ipython",
    "version": 3
   },
   "file_extension": ".py",
   "mimetype": "text/x-python",
   "name": "python",
   "nbconvert_exporter": "python",
   "pygments_lexer": "ipython3",
   "version": "3.7.3"
  }
 },
 "nbformat": 4,
 "nbformat_minor": 5
}
